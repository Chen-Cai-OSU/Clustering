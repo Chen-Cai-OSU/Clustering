{
 "cells": [
  {
   "cell_type": "markdown",
   "metadata": {},
   "source": [
    "This is a short tutorial on how to use the software to compute Elder-rule-staircodes."
   ]
  },
  {
   "cell_type": "code",
   "execution_count": 1,
   "metadata": {},
   "outputs": [
    {
     "name": "stderr",
     "output_type": "stream",
     "text": [
      "/home/cai.507/anaconda3/lib/python3.6/site-packages/statsmodels/tools/_testing.py:19: FutureWarning: pandas.util.testing is deprecated. Use the functions in the public API at pandas.testing instead.\n",
      "  import pandas.util.testing as tm\n"
     ]
    }
   ],
   "source": [
    "import sys\n",
    "sys.path.append('/home/cai.507/Documents/DeepLearning/Clustering/') # modify the path accordingly\n",
    "import matplotlib.pylab as plt\n",
    "from sklearn.cluster import AgglomerativeClustering\n",
    "\n",
    "from ER.gen.ptc_model import toy_dataset\n",
    "from ER.ER_staircode import density, slice_dgm_, plot_Ix, assemble\n",
    "BACKEND = 'multiprocessing'\n",
    "linkage_kwargs = {'distance_threshold': 0, 'n_clusters': None, 'linkage': 'single'}\n"
   ]
  },
  {
   "cell_type": "markdown",
   "metadata": {},
   "source": [
    "# Prepare data"
   ]
  },
  {
   "cell_type": "code",
   "execution_count": 2,
   "metadata": {},
   "outputs": [
    {
     "data": {
      "image/png": "[encoded data removed]",
      "text/plain": [
       "<Figure size 432x288 with 1 Axes>"
      ]
     },
     "metadata": {
      "needs_background": "light"
     },
     "output_type": "display_data"
    },
    {
     "name": "stdout",
     "output_type": "stream",
     "text": [
      "X (np.ndarry): (100, 2)\n",
      "f(np.ndarry): (100,)\n"
     ]
    }
   ],
   "source": [
    "    # generate 2d point clouds\n",
    "    X_origin, _, _ = toy_dataset(n_sample=100, name='moon')  # X_origin is of shape (n, 2)\n",
    "    n_pt = X_origin.shape[0]\n",
    "    f = - density(X_origin, bw=0.1).reshape(n_pt, ) # bw is the bandwidth for kernel density estimation\n",
    "\n",
    "    # sort by function value\n",
    "    f_inds = f.argsort()\n",
    "    X = X_origin[f_inds]\n",
    "    f = f[f_inds]\n",
    "    \n",
    "    # plot data\n",
    "    plt.scatter(X[:, 0], X[:, 1]); plt.show()\n",
    "    print(f'X (np.ndarry): {X.shape}')\n",
    "    print(f'f(np.ndarry): {f.shape}')"
   ]
  },
  {
   "cell_type": "markdown",
   "metadata": {},
   "source": [
    "Now we are going to compute the ER staircode."
   ]
  },
  {
   "cell_type": "markdown",
   "metadata": {},
   "source": [
    "# Compute ER-staircode"
   ]
  },
  {
   "cell_type": "code",
   "execution_count": 3,
   "metadata": {},
   "outputs": [],
   "source": [
    "stairs = []\n",
    "for i in range(2, n_pt + 1):\n",
    "    X_ = X[:i, :]\n",
    "    model = AgglomerativeClustering(**linkage_kwargs)\n",
    "    model = model.fit(X_)\n",
    "    decoration = slice_dgm_(model, X_, f[:i])\n",
    "    stairs.append(decoration)\n",
    "I_x = assemble(stairs, f)"
   ]
  },
  {
   "cell_type": "markdown",
   "metadata": {},
   "source": [
    "# Visualize ER-staircode"
   ]
  },
  {
   "cell_type": "code",
   "execution_count": 4,
   "metadata": {},
   "outputs": [
    {
     "data": {
      "image/png": "[encoded data removed]",
      "text/plain": [
       "<Figure size 432x288 with 1 Axes>"
      ]
     },
     "metadata": {
      "needs_background": "light"
     },
     "output_type": "display_data"
    }
   ],
   "source": [
    "# for visual simplicity, we only plot one staircode\n",
    "key = '(0.15898776403156484, -0.08792903169141784)'\n",
    "plot_Ix(I_x, key=key)\n"
   ]
  },
  {
   "cell_type": "code",
   "execution_count": null,
   "metadata": {},
   "outputs": [],
   "source": []
  }
 ],
 "metadata": {
  "kernelspec": {
   "display_name": "Python 3",
   "language": "python",
   "name": "python3"
  },
  "language_info": {
   "codemirror_mode": {
    "name": "ipython",
    "version": 3
   },
   "file_extension": ".py",
   "mimetype": "text/x-python",
   "name": "python",
   "nbconvert_exporter": "python",
   "pygments_lexer": "ipython3",
   "version": "3.6.7"
  }
 },
 "nbformat": 4,
 "nbformat_minor": 2
}
